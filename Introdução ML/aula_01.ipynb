{
 "cells": [
  {
   "cell_type": "markdown",
   "id": "5bb5dbd3-c3db-4168-b821-0a904259b64c",
   "metadata": {},
   "source": [
    "## Numpy"
   ]
  },
  {
   "cell_type": "code",
   "execution_count": 3,
   "id": "a0c3bdd1-1cea-40fd-a20f-2aa67a6cb941",
   "metadata": {},
   "outputs": [],
   "source": [
    "import numpy as np'"
   ]
  },
  {
   "cell_type": "code",
   "execution_count": 4,
   "id": "97f4deb8-b7dd-4111-9e23-39737cda58c8",
   "metadata": {},
   "outputs": [
    {
     "data": {
      "text/plain": [
       "'1.25.2'"
      ]
     },
     "execution_count": 4,
     "metadata": {},
     "output_type": "execute_result"
    }
   ],
   "source": [
    "np.__version__"
   ]
  },
  {
   "cell_type": "code",
   "execution_count": 5,
   "id": "63d9132b-6776-4f4b-bc02-3dfc5fb84245",
   "metadata": {},
   "outputs": [],
   "source": [
    "m1=np.array([2,4,6,8,10])\n",
    "m2=np.array([1,3,5,7,9])"
   ]
  },
  {
   "cell_type": "code",
   "execution_count": 6,
   "id": "4bdf77f5-6b76-4eb2-b16d-27f76c3dd652",
   "metadata": {},
   "outputs": [
    {
     "data": {
      "text/plain": [
       "array([ 3,  7, 11, 15, 19])"
      ]
     },
     "execution_count": 6,
     "metadata": {},
     "output_type": "execute_result"
    }
   ],
   "source": [
    "m1+m2"
   ]
  },
  {
   "cell_type": "code",
   "execution_count": 7,
   "id": "6b27293e-18c4-4067-9624-1d4be3a4f779",
   "metadata": {},
   "outputs": [
    {
     "data": {
      "text/plain": [
       "array([ 2, 12, 30, 56, 90])"
      ]
     },
     "execution_count": 7,
     "metadata": {},
     "output_type": "execute_result"
    }
   ],
   "source": [
    "m1*m2"
   ]
  },
  {
   "cell_type": "code",
   "execution_count": 11,
   "id": "0d5314f4-6722-464a-bf38-bf2a84cb2790",
   "metadata": {},
   "outputs": [],
   "source": [
    "mx=m1"
   ]
  },
  {
   "cell_type": "code",
   "execution_count": 8,
   "id": "4a604f2a-52e9-4053-a1f8-05ddf7221a52",
   "metadata": {},
   "outputs": [],
   "source": [
    "m3=np.random.randn(10,10)"
   ]
  },
  {
   "cell_type": "code",
   "execution_count": 9,
   "id": "3e54b9dc-49d6-466c-b545-c877699ce6c4",
   "metadata": {},
   "outputs": [
    {
     "data": {
      "text/plain": [
       "array([[ 1.82393379, -1.2597521 , -0.01064171, -0.12758173,  1.21940385,\n",
       "        -1.26556439,  1.03693414, -0.86372746,  1.26123541,  1.34981005],\n",
       "       [ 0.94510778,  1.46183299,  0.59522802,  0.68174207,  0.5300078 ,\n",
       "        -1.05261242, -0.9016581 , -0.94635019, -0.34487354,  0.60058486],\n",
       "       [-1.09795899, -0.65908795, -0.64136165, -0.5347218 ,  0.1201725 ,\n",
       "        -0.96606287,  1.38183257, -0.91293958, -0.50656772, -0.54519709],\n",
       "       [-0.99818632, -1.35536706, -0.51413313, -0.39844083,  1.96047167,\n",
       "        -1.11943235, -1.03064153, -2.85753887,  1.01957184,  0.49283843],\n",
       "       [-0.79744419, -0.54114333,  0.83435232,  0.4320979 , -0.71800597,\n",
       "         1.91934419, -1.13061954,  0.16241838,  0.57824004,  2.59843714],\n",
       "       [ 0.0634514 , -1.08902501,  1.76369405, -0.30358973, -0.22514482,\n",
       "         1.0913796 ,  0.57792874, -0.23516302,  1.14174273, -0.67869539],\n",
       "       [ 0.51288504,  1.77676954, -0.08199508,  1.33445242,  0.61199521,\n",
       "         0.1870112 , -0.0771417 , -1.56703057, -0.45533398,  0.08416997],\n",
       "       [-0.53132693, -0.10436669, -0.47927662,  0.3191791 , -1.16043381,\n",
       "         0.14204936,  0.29425975,  0.99232312, -0.52444548, -0.94728994],\n",
       "       [ 0.81573931,  0.22592955,  0.70448709,  1.70110276,  1.86383924,\n",
       "         1.96534663, -1.38613753, -0.74702907, -1.53439841,  0.0521579 ],\n",
       "       [-0.70760238, -1.34947908,  0.81036715, -0.60805724,  0.26431201,\n",
       "         0.87255092, -0.67609198,  0.11329339,  0.98052406, -1.18594669]])"
      ]
     },
     "execution_count": 9,
     "metadata": {},
     "output_type": "execute_result"
    }
   ],
   "source": [
    "m3"
   ]
  },
  {
   "cell_type": "code",
   "execution_count": 12,
   "id": "a1e281f9-380a-48fb-9bb0-ccac2989c200",
   "metadata": {},
   "outputs": [],
   "source": [
    "m4 = mx*3"
   ]
  },
  {
   "cell_type": "code",
   "execution_count": 13,
   "id": "29f834bc-266d-40fb-b41f-5ca073ef55df",
   "metadata": {},
   "outputs": [
    {
     "data": {
      "text/plain": [
       "array([ 6, 12, 18, 24, 30])"
      ]
     },
     "execution_count": 13,
     "metadata": {},
     "output_type": "execute_result"
    }
   ],
   "source": [
    "m4"
   ]
  },
  {
   "cell_type": "code",
   "execution_count": 14,
   "id": "6dbb0e40-bbfb-466a-85f5-9305d7acfa42",
   "metadata": {},
   "outputs": [],
   "source": [
    "m5=np.array([[1,2,3],[5,6,7],[9,10,11]])"
   ]
  },
  {
   "cell_type": "code",
   "execution_count": 15,
   "id": "a544a4b9-f766-4bbb-a69e-9a2ecde49679",
   "metadata": {},
   "outputs": [
    {
     "data": {
      "text/plain": [
       "array([[ 1,  2,  3],\n",
       "       [ 5,  6,  7],\n",
       "       [ 9, 10, 11]])"
      ]
     },
     "execution_count": 15,
     "metadata": {},
     "output_type": "execute_result"
    }
   ],
   "source": [
    "m5"
   ]
  },
  {
   "cell_type": "code",
   "execution_count": 16,
   "id": "e858ed72-6fbe-4c53-96cf-fa5558681f45",
   "metadata": {},
   "outputs": [
    {
     "data": {
      "text/plain": [
       "(3, 3)"
      ]
     },
     "execution_count": 16,
     "metadata": {},
     "output_type": "execute_result"
    }
   ],
   "source": [
    "m5.shape"
   ]
  },
  {
   "cell_type": "code",
   "execution_count": 17,
   "id": "773323b6-6efe-4b6b-bca2-ad4ddc2a52e8",
   "metadata": {},
   "outputs": [
    {
     "data": {
      "text/plain": [
       "array([0., 0., 0., 0., 0., 0., 0., 0., 0., 0., 0., 0., 0., 0., 0., 0., 0.,\n",
       "       0., 0., 0., 0., 0., 0., 0., 0., 0., 0., 0., 0., 0., 0., 0., 0., 0.,\n",
       "       0., 0., 0., 0., 0., 0., 0., 0., 0., 0., 0., 0., 0., 0., 0., 0.])"
      ]
     },
     "execution_count": 17,
     "metadata": {},
     "output_type": "execute_result"
    }
   ],
   "source": [
    "m6=np.zeros(50)\n",
    "m6"
   ]
  },
  {
   "cell_type": "code",
   "execution_count": 18,
   "id": "d7fbd07b-23ee-422c-a821-2ad9cbb155ac",
   "metadata": {},
   "outputs": [
    {
     "data": {
      "text/plain": [
       "array([1., 1., 1., 1., 1., 1., 1., 1., 1., 1., 1., 1., 1., 1., 1., 1., 1.,\n",
       "       1., 1., 1., 1., 1., 1., 1., 1., 1., 1., 1., 1., 1., 1., 1., 1., 1.,\n",
       "       1., 1., 1., 1., 1., 1., 1., 1., 1., 1., 1., 1., 1., 1., 1., 1.])"
      ]
     },
     "execution_count": 18,
     "metadata": {},
     "output_type": "execute_result"
    }
   ],
   "source": [
    "m7=np.ones(50)\n",
    "m7"
   ]
  },
  {
   "cell_type": "code",
   "execution_count": 29,
   "id": "639d8f90-f764-4d0b-a0cb-414064fbed2a",
   "metadata": {},
   "outputs": [],
   "source": [
    "import pandas as pd"
   ]
  },
  {
   "cell_type": "code",
   "execution_count": 30,
   "id": "1749c772-cbd9-4791-8b0a-9373ba9c4a93",
   "metadata": {},
   "outputs": [
    {
     "name": "stdout",
     "output_type": "stream",
     "text": [
      " O volume na unidade C nÆo tem nome.\n",
      " O N£mero de S‚rie do Volume ‚ 7CA7-423C\n",
      "\n",
      " Pasta de C:\\Users\\IFAM_CMZL\\pam\n",
      "\n",
      "03/02/2024  08:59    <DIR>          .\n",
      "03/02/2024  08:59    <DIR>          ..\n",
      "03/02/2024  08:59    <DIR>          .ipynb_checkpoints\n",
      "03/02/2024  07:31    <DIR>          _dados_vendas\n",
      "03/02/2024  08:59             9.565 aula_01.ipynb\n",
      "               1 arquivo(s)          9.565 bytes\n",
      "               4 pasta(s)   62.993.092.608 bytes dispon¡veis\n"
     ]
    }
   ],
   "source": [
    "ls"
   ]
  },
  {
   "cell_type": "code",
   "execution_count": 31,
   "id": "c6c08578-9abe-46db-b796-700c5df96c3d",
   "metadata": {},
   "outputs": [],
   "source": [
    "path = './_dados_vendas/'"
   ]
  },
  {
   "cell_type": "code",
   "execution_count": 32,
   "id": "89fa685a-425e-4425-91f7-322127ce13c7",
   "metadata": {},
   "outputs": [
    {
     "data": {
      "text/plain": [
       "'C:\\\\Users\\\\IFAM_CMZL\\\\pam'"
      ]
     },
     "execution_count": 32,
     "metadata": {},
     "output_type": "execute_result"
    }
   ],
   "source": [
    "pwd"
   ]
  },
  {
   "cell_type": "code",
   "execution_count": 33,
   "id": "025125f6-ef54-4822-87d0-405ed3f56a5a",
   "metadata": {},
   "outputs": [],
   "source": [
    "df_hub=pd.read_csv(path+'hubs.csv',encoding=\"ISO-8859-1\")"
   ]
  },
  {
   "cell_type": "code",
   "execution_count": 34,
   "id": "8fed78eb-6052-417c-abb6-79425008a65b",
   "metadata": {},
   "outputs": [
    {
     "data": {
      "text/plain": [
       "(32, 6)"
      ]
     },
     "execution_count": 34,
     "metadata": {},
     "output_type": "execute_result"
    }
   ],
   "source": [
    "df_hub.shape"
   ]
  },
  {
   "cell_type": "code",
   "execution_count": 37,
   "id": "70d614ed-b173-45ac-baa4-e23de5d27e20",
   "metadata": {},
   "outputs": [],
   "source": [
    "df_sto=pd.read_csv(path+'stores.csv',encoding=\"ISO-8859-1\")"
   ]
  },
  {
   "cell_type": "code",
   "execution_count": 52,
   "id": "2ea10c3f-aedd-46b9-8478-51bdb88d86c0",
   "metadata": {},
   "outputs": [
    {
     "data": {
      "text/plain": [
       "(951, 7)"
      ]
     },
     "execution_count": 52,
     "metadata": {},
     "output_type": "execute_result"
    }
   ],
   "source": [
    "df_sto.shape"
   ]
  },
  {
   "cell_type": "code",
   "execution_count": 40,
   "id": "0f19eccd-e38b-4633-ab83-ee2915e2af53",
   "metadata": {},
   "outputs": [],
   "source": [
    "df_del=pd.read_csv(path+'deliveries.csv',encoding=\"ISO-8859-1\")"
   ]
  },
  {
   "cell_type": "code",
   "execution_count": 51,
   "id": "9ece08ce-fc0b-4f5f-8ed4-65f99ca791ed",
   "metadata": {},
   "outputs": [
    {
     "data": {
      "text/plain": [
       "(378843, 5)"
      ]
     },
     "execution_count": 51,
     "metadata": {},
     "output_type": "execute_result"
    }
   ],
   "source": [
    "df_del.shape"
   ]
  },
  {
   "cell_type": "code",
   "execution_count": 50,
   "id": "6f201ed2-ba19-4c83-8872-9c852f4c3ab3",
   "metadata": {},
   "outputs": [
    {
     "data": {
      "text/plain": [
       "(368999, 29)"
      ]
     },
     "execution_count": 50,
     "metadata": {},
     "output_type": "execute_result"
    }
   ],
   "source": [
    "df_ord=pd.read_csv(path+'orders.csv',encoding=\"ISO-8859-1\")\n",
    "df_ord.shape"
   ]
  },
  {
   "cell_type": "code",
   "execution_count": 49,
   "id": "9938cb5e-db20-4da4-8f94-53e4081db74b",
   "metadata": {},
   "outputs": [
    {
     "data": {
      "text/plain": [
       "(400834, 6)"
      ]
     },
     "execution_count": 49,
     "metadata": {},
     "output_type": "execute_result"
    }
   ],
   "source": [
    "df_pay=pd.read_csv(path+'payments.csv',encoding=\"ISO-8859-1\")\n",
    "df_pay.shape"
   ]
  },
  {
   "cell_type": "code",
   "execution_count": 48,
   "id": "6c5258dc-178b-4443-9a7b-e3dd22a807ac",
   "metadata": {},
   "outputs": [
    {
     "data": {
      "text/plain": [
       "(4824, 3)"
      ]
     },
     "execution_count": 48,
     "metadata": {},
     "output_type": "execute_result"
    }
   ],
   "source": [
    "df_driv=pd.read_csv(path+'drivers.csv',encoding=\"ISO-8859-1\")\n",
    "df_driv.shape"
   ]
  },
  {
   "cell_type": "code",
   "execution_count": 53,
   "id": "3da4fece-df52-4f88-bc48-1a36bb2a2747",
   "metadata": {},
   "outputs": [
    {
     "data": {
      "text/plain": [
       "(40, 3)"
      ]
     },
     "execution_count": 53,
     "metadata": {},
     "output_type": "execute_result"
    }
   ],
   "source": [
    "df_chan=pd.read_csv(path+'channels.csv',encoding=\"ISO-8859-1\")\n",
    "df_chan.shape"
   ]
  },
  {
   "cell_type": "code",
   "execution_count": 56,
   "id": "742e15d9-ef27-43da-83e1-596a1dd667bf",
   "metadata": {},
   "outputs": [
    {
     "name": "stdout",
     "output_type": "stream",
     "text": [
      "<class 'pandas.core.frame.DataFrame'>\n",
      "RangeIndex: 400834 entries, 0 to 400833\n",
      "Data columns (total 6 columns):\n",
      " #   Column            Non-Null Count   Dtype  \n",
      "---  ------            --------------   -----  \n",
      " 0   payment_id        400834 non-null  int64  \n",
      " 1   payment_order_id  400834 non-null  int64  \n",
      " 2   payment_amount    400834 non-null  float64\n",
      " 3   payment_fee       400659 non-null  float64\n",
      " 4   payment_method    400834 non-null  object \n",
      " 5   payment_status    400834 non-null  object \n",
      "dtypes: float64(2), int64(2), object(2)\n",
      "memory usage: 18.3+ MB\n"
     ]
    }
   ],
   "source": [
    "df_pay.info()"
   ]
  },
  {
   "cell_type": "code",
   "execution_count": 58,
   "id": "605daa45-a9c8-497d-b7ab-4e36cb769113",
   "metadata": {},
   "outputs": [
    {
     "data": {
      "text/html": [
       "<div>\n",
       "<style scoped>\n",
       "    .dataframe tbody tr th:only-of-type {\n",
       "        vertical-align: middle;\n",
       "    }\n",
       "\n",
       "    .dataframe tbody tr th {\n",
       "        vertical-align: top;\n",
       "    }\n",
       "\n",
       "    .dataframe thead th {\n",
       "        text-align: right;\n",
       "    }\n",
       "</style>\n",
       "<table border=\"1\" class=\"dataframe\">\n",
       "  <thead>\n",
       "    <tr style=\"text-align: right;\">\n",
       "      <th></th>\n",
       "      <th>payment_id</th>\n",
       "      <th>payment_order_id</th>\n",
       "      <th>payment_amount</th>\n",
       "      <th>payment_fee</th>\n",
       "    </tr>\n",
       "  </thead>\n",
       "  <tbody>\n",
       "    <tr>\n",
       "      <th>count</th>\n",
       "      <td>4.008340e+05</td>\n",
       "      <td>4.008340e+05</td>\n",
       "      <td>400834.000000</td>\n",
       "      <td>400659.000000</td>\n",
       "    </tr>\n",
       "    <tr>\n",
       "      <th>mean</th>\n",
       "      <td>4.951200e+06</td>\n",
       "      <td>8.234181e+07</td>\n",
       "      <td>93.089261</td>\n",
       "      <td>1.880510</td>\n",
       "    </tr>\n",
       "    <tr>\n",
       "      <th>std</th>\n",
       "      <td>3.014924e+05</td>\n",
       "      <td>7.002741e+06</td>\n",
       "      <td>221.947167</td>\n",
       "      <td>4.540013</td>\n",
       "    </tr>\n",
       "    <tr>\n",
       "      <th>min</th>\n",
       "      <td>4.427917e+06</td>\n",
       "      <td>6.841006e+07</td>\n",
       "      <td>0.000000</td>\n",
       "      <td>0.000000</td>\n",
       "    </tr>\n",
       "    <tr>\n",
       "      <th>25%</th>\n",
       "      <td>4.690206e+06</td>\n",
       "      <td>7.651759e+07</td>\n",
       "      <td>32.700000</td>\n",
       "      <td>0.440000</td>\n",
       "    </tr>\n",
       "    <tr>\n",
       "      <th>50%</th>\n",
       "      <td>4.955490e+06</td>\n",
       "      <td>8.325196e+07</td>\n",
       "      <td>65.880000</td>\n",
       "      <td>1.040000</td>\n",
       "    </tr>\n",
       "    <tr>\n",
       "      <th>75%</th>\n",
       "      <td>5.211231e+06</td>\n",
       "      <td>8.802531e+07</td>\n",
       "      <td>121.400000</td>\n",
       "      <td>2.710000</td>\n",
       "    </tr>\n",
       "    <tr>\n",
       "      <th>max</th>\n",
       "      <td>5.540806e+06</td>\n",
       "      <td>9.313982e+07</td>\n",
       "      <td>100000.110000</td>\n",
       "      <td>2000.000000</td>\n",
       "    </tr>\n",
       "  </tbody>\n",
       "</table>\n",
       "</div>"
      ],
      "text/plain": [
       "         payment_id  payment_order_id  payment_amount    payment_fee\n",
       "count  4.008340e+05      4.008340e+05   400834.000000  400659.000000\n",
       "mean   4.951200e+06      8.234181e+07       93.089261       1.880510\n",
       "std    3.014924e+05      7.002741e+06      221.947167       4.540013\n",
       "min    4.427917e+06      6.841006e+07        0.000000       0.000000\n",
       "25%    4.690206e+06      7.651759e+07       32.700000       0.440000\n",
       "50%    4.955490e+06      8.325196e+07       65.880000       1.040000\n",
       "75%    5.211231e+06      8.802531e+07      121.400000       2.710000\n",
       "max    5.540806e+06      9.313982e+07   100000.110000    2000.000000"
      ]
     },
     "execution_count": 58,
     "metadata": {},
     "output_type": "execute_result"
    }
   ],
   "source": [
    "df_pay.describe()"
   ]
  },
  {
   "cell_type": "code",
   "execution_count": 60,
   "id": "a30a0104-b0cd-4679-a4e0-57dc5dfb1cca",
   "metadata": {},
   "outputs": [],
   "source": [
    "coluna_df_pay=df_pay.columns"
   ]
  },
  {
   "cell_type": "code",
   "execution_count": 61,
   "id": "3446f5ce-7b1a-40c1-85cb-9e522494a0e9",
   "metadata": {},
   "outputs": [
    {
     "data": {
      "text/plain": [
       "Index(['payment_id', 'payment_order_id', 'payment_amount', 'payment_fee',\n",
       "       'payment_method', 'payment_status'],\n",
       "      dtype='object')"
      ]
     },
     "execution_count": 61,
     "metadata": {},
     "output_type": "execute_result"
    }
   ],
   "source": [
    "coluna_df_pay\n"
   ]
  },
  {
   "cell_type": "code",
   "execution_count": 67,
   "id": "6144bb05-d82e-4f96-a005-63d32453add0",
   "metadata": {},
   "outputs": [
    {
     "data": {
      "image/png": "[encoded data removed]",
      "text/plain": [
       "<Figure size 640x480 with 1 Axes>"
      ]
     },
     "metadata": {},
     "output_type": "display_data"
    }
   ],
   "source": [
    "df_pay.payment_id.plot.hist();"
   ]
  },
  {
   "cell_type": "code",
   "execution_count": null,
   "id": "b70bc806-44b2-4feb-9680-7ab73d91977c",
   "metadata": {},
   "outputs": [],
   "source": [
    "df_pay.payment_id.plot.hist();"
   ]
  },
  {
   "cell_type": "code",
   "execution_count": 73,
   "id": "6df0cd91-8a21-4229-8013-bb92411c7488",
   "metadata": {},
   "outputs": [
    {
     "data": {
      "text/plain": [
       "channel_id\n",
       "5     288723\n",
       "15     15109\n",
       "21     12474\n",
       "46     10367\n",
       "1       9204\n",
       "13      9103\n",
       "10      8589\n",
       "3       4753\n",
       "17      3222\n",
       "35      1509\n",
       "39       814\n",
       "36       767\n",
       "9        760\n",
       "28       622\n",
       "6        431\n",
       "24       392\n",
       "41       346\n",
       "20       284\n",
       "7        265\n",
       "2        228\n",
       "31       223\n",
       "44       198\n",
       "11       157\n",
       "33       122\n",
       "8        112\n",
       "48        90\n",
       "29        64\n",
       "12        34\n",
       "32        16\n",
       "34         5\n",
       "30         4\n",
       "25         2\n",
       "4          2\n",
       "43         2\n",
       "38         2\n",
       "23         1\n",
       "49         1\n",
       "37         1\n",
       "47         1\n",
       "Name: count, dtype: int64"
      ]
     },
     "execution_count": 73,
     "metadata": {},
     "output_type": "execute_result"
    }
   ],
   "source": [
    "df_ord.channel_id.value_counts()"
   ]
  },
  {
   "cell_type": "code",
   "execution_count": 74,
   "id": "3657e34e-f7ea-4b51-aaf1-ddcb3dc38572",
   "metadata": {},
   "outputs": [
    {
     "data": {
      "text/plain": [
       "<Axes: ylabel='Frequency'>"
      ]
     },
     "execution_count": 74,
     "metadata": {},
     "output_type": "execute_result"
    },
    {
     "data": {
      "image/png": "[encoded data removed]",
      "text/plain": [
       "<Figure size 640x480 with 1 Axes>"
      ]
     },
     "metadata": {},
     "output_type": "display_data"
    }
   ],
   "source": [
    "df_ord.channel_id.plot.hist()"
   ]
  },
  {
   "cell_type": "code",
   "execution_count": 75,
   "id": "a1d25ca0-7a11-4b49-8961-5c5db129d484",
   "metadata": {},
   "outputs": [
    {
     "data": {
      "text/html": [
       "<div>\n",
       "<style scoped>\n",
       "    .dataframe tbody tr th:only-of-type {\n",
       "        vertical-align: middle;\n",
       "    }\n",
       "\n",
       "    .dataframe tbody tr th {\n",
       "        vertical-align: top;\n",
       "    }\n",
       "\n",
       "    .dataframe thead th {\n",
       "        text-align: right;\n",
       "    }\n",
       "</style>\n",
       "<table border=\"1\" class=\"dataframe\">\n",
       "  <thead>\n",
       "    <tr style=\"text-align: right;\">\n",
       "      <th></th>\n",
       "      <th>payment_id</th>\n",
       "      <th>payment_order_id</th>\n",
       "      <th>payment_amount</th>\n",
       "      <th>payment_fee</th>\n",
       "      <th>payment_method</th>\n",
       "      <th>payment_status</th>\n",
       "    </tr>\n",
       "  </thead>\n",
       "  <tbody>\n",
       "    <tr>\n",
       "      <th>0</th>\n",
       "      <td>4427917</td>\n",
       "      <td>68410055</td>\n",
       "      <td>118.44</td>\n",
       "      <td>0.00</td>\n",
       "      <td>VOUCHER</td>\n",
       "      <td>PAID</td>\n",
       "    </tr>\n",
       "    <tr>\n",
       "      <th>1</th>\n",
       "      <td>4427918</td>\n",
       "      <td>68410055</td>\n",
       "      <td>394.81</td>\n",
       "      <td>7.90</td>\n",
       "      <td>ONLINE</td>\n",
       "      <td>PAID</td>\n",
       "    </tr>\n",
       "    <tr>\n",
       "      <th>2</th>\n",
       "      <td>4427941</td>\n",
       "      <td>68412721</td>\n",
       "      <td>206.95</td>\n",
       "      <td>5.59</td>\n",
       "      <td>ONLINE</td>\n",
       "      <td>PAID</td>\n",
       "    </tr>\n",
       "    <tr>\n",
       "      <th>3</th>\n",
       "      <td>4427948</td>\n",
       "      <td>68413340</td>\n",
       "      <td>58.80</td>\n",
       "      <td>1.59</td>\n",
       "      <td>ONLINE</td>\n",
       "      <td>PAID</td>\n",
       "    </tr>\n",
       "    <tr>\n",
       "      <th>4</th>\n",
       "      <td>4427955</td>\n",
       "      <td>68414018</td>\n",
       "      <td>45.80</td>\n",
       "      <td>0.92</td>\n",
       "      <td>ONLINE</td>\n",
       "      <td>PAID</td>\n",
       "    </tr>\n",
       "    <tr>\n",
       "      <th>...</th>\n",
       "      <td>...</td>\n",
       "      <td>...</td>\n",
       "      <td>...</td>\n",
       "      <td>...</td>\n",
       "      <td>...</td>\n",
       "      <td>...</td>\n",
       "    </tr>\n",
       "    <tr>\n",
       "      <th>400829</th>\n",
       "      <td>5535356</td>\n",
       "      <td>92271189</td>\n",
       "      <td>15.80</td>\n",
       "      <td>0.24</td>\n",
       "      <td>PAYMENT_LINK</td>\n",
       "      <td>PAID</td>\n",
       "    </tr>\n",
       "    <tr>\n",
       "      <th>400830</th>\n",
       "      <td>5535359</td>\n",
       "      <td>90051751</td>\n",
       "      <td>93.30</td>\n",
       "      <td>1.87</td>\n",
       "      <td>PAYMENT_LINK</td>\n",
       "      <td>PAID</td>\n",
       "    </tr>\n",
       "    <tr>\n",
       "      <th>400831</th>\n",
       "      <td>5536362</td>\n",
       "      <td>92645440</td>\n",
       "      <td>43.20</td>\n",
       "      <td>0.65</td>\n",
       "      <td>STORE_DIRECT_PAYMENT</td>\n",
       "      <td>PAID</td>\n",
       "    </tr>\n",
       "    <tr>\n",
       "      <th>400832</th>\n",
       "      <td>5538634</td>\n",
       "      <td>92332079</td>\n",
       "      <td>59.90</td>\n",
       "      <td>0.90</td>\n",
       "      <td>PAYMENT_LINK</td>\n",
       "      <td>PAID</td>\n",
       "    </tr>\n",
       "    <tr>\n",
       "      <th>400833</th>\n",
       "      <td>5540806</td>\n",
       "      <td>92889224</td>\n",
       "      <td>59.80</td>\n",
       "      <td>0.90</td>\n",
       "      <td>PAYMENT_LINK</td>\n",
       "      <td>PAID</td>\n",
       "    </tr>\n",
       "  </tbody>\n",
       "</table>\n",
       "<p>400834 rows × 6 columns</p>\n",
       "</div>"
      ],
      "text/plain": [
       "        payment_id  payment_order_id  payment_amount  payment_fee  \\\n",
       "0          4427917          68410055          118.44         0.00   \n",
       "1          4427918          68410055          394.81         7.90   \n",
       "2          4427941          68412721          206.95         5.59   \n",
       "3          4427948          68413340           58.80         1.59   \n",
       "4          4427955          68414018           45.80         0.92   \n",
       "...            ...               ...             ...          ...   \n",
       "400829     5535356          92271189           15.80         0.24   \n",
       "400830     5535359          90051751           93.30         1.87   \n",
       "400831     5536362          92645440           43.20         0.65   \n",
       "400832     5538634          92332079           59.90         0.90   \n",
       "400833     5540806          92889224           59.80         0.90   \n",
       "\n",
       "              payment_method payment_status  \n",
       "0                    VOUCHER           PAID  \n",
       "1                     ONLINE           PAID  \n",
       "2                     ONLINE           PAID  \n",
       "3                     ONLINE           PAID  \n",
       "4                     ONLINE           PAID  \n",
       "...                      ...            ...  \n",
       "400829          PAYMENT_LINK           PAID  \n",
       "400830          PAYMENT_LINK           PAID  \n",
       "400831  STORE_DIRECT_PAYMENT           PAID  \n",
       "400832          PAYMENT_LINK           PAID  \n",
       "400833          PAYMENT_LINK           PAID  \n",
       "\n",
       "[400834 rows x 6 columns]"
      ]
     },
     "execution_count": 75,
     "metadata": {},
     "output_type": "execute_result"
    }
   ],
   "source": [
    "df_pay"
   ]
  },
  {
   "cell_type": "code",
   "execution_count": 89,
   "id": "ed1dc945-8381-4cc3-8de5-bf1ee503f88b",
   "metadata": {},
   "outputs": [
    {
     "data": {
      "text/plain": [
       "payment_method\n",
       "ONLINE                      312377\n",
       "VOUCHER                      48570\n",
       "DEBIT                        12347\n",
       "MEAL_BENEFIT                  6687\n",
       "STORE_DIRECT_PAYMENT          6574\n",
       "CREDIT                        4966\n",
       "DEBIT_STORE                   1997\n",
       "VOUCHER_STORE                 1683\n",
       "PAYMENT_LINK                  1613\n",
       "CREDIT_STORE                  1266\n",
       "MONEY                         1190\n",
       "VOUCHER_DC                     465\n",
       "INSTALLMENT_CREDIT_STORE       452\n",
       "VOUCHER_OL                     347\n",
       "BANK_TRANSFER_DC               300\n",
       "Name: count, dtype: int64"
      ]
     },
     "execution_count": 89,
     "metadata": {},
     "output_type": "execute_result"
    }
   ],
   "source": [
    "df_pay_hist=df_pay.payment_method.value_counts()\n",
    "df_pay_hist"
   ]
  },
  {
   "cell_type": "code",
   "execution_count": 85,
   "id": "e5318e9d-b462-4181-a43f-ae89a5d94845",
   "metadata": {},
   "outputs": [
    {
     "data": {
      "text/plain": [
       "<Axes: ylabel='Frequency'>"
      ]
     },
     "execution_count": 85,
     "metadata": {},
     "output_type": "execute_result"
    },
    {
     "data": {
      "image/png": "[encoded data removed]",
      "text/plain": [
       "<Figure size 640x480 with 1 Axes>"
      ]
     },
     "metadata": {},
     "output_type": "display_data"
    }
   ],
   "source": [
    "df_pay_hist.plot.hist()"
   ]
  },
  {
   "cell_type": "code",
   "execution_count": 91,
   "id": "0e96e30f-25ae-4c55-bf06-3c19863f03b7",
   "metadata": {},
   "outputs": [
    {
     "data": {
      "text/plain": [
       "driver_type\n",
       "FREELANCE            3939\n",
       "LOGISTIC OPERATOR     885\n",
       "Name: count, dtype: int64"
      ]
     },
     "execution_count": 91,
     "metadata": {},
     "output_type": "execute_result"
    }
   ],
   "source": [
    "df_driv_hist=df_driv.driver_type.value_counts()\n",
    "df_driv_hist"
   ]
  },
  {
   "cell_type": "code",
   "execution_count": 93,
   "id": "cd7e3c75-9987-4a1d-a519-56225a430486",
   "metadata": {},
   "outputs": [
    {
     "data": {
      "text/plain": [
       "<Axes: ylabel='Frequency'>"
      ]
     },
     "execution_count": 93,
     "metadata": {},
     "output_type": "execute_result"
    },
    {
     "data": {
      "image/png": "[encoded data removed]",
      "text/plain": [
       "<Figure size 640x480 with 1 Axes>"
      ]
     },
     "metadata": {},
     "output_type": "display_data"
    }
   ],
   "source": [
    "df_driv_hist.plot.hist()"
   ]
  },
  {
   "cell_type": "code",
   "execution_count": 96,
   "id": "30afc69a-8cd0-4783-a993-d17f079423cf",
   "metadata": {},
   "outputs": [
    {
     "data": {
      "text/plain": [
       "store_segment\n",
       "GOOD    567\n",
       "FOOD    384\n",
       "Name: count, dtype: int64"
      ]
     },
     "execution_count": 96,
     "metadata": {},
     "output_type": "execute_result"
    }
   ],
   "source": [
    "df_sto.store_segment.value_counts()"
   ]
  },
  {
   "cell_type": "code",
   "execution_count": 97,
   "id": "b011ee21-c6b5-418d-8208-cbafbee81bb0",
   "metadata": {},
   "outputs": [
    {
     "data": {
      "text/plain": [
       "<Axes: ylabel='Frequency'>"
      ]
     },
     "execution_count": 97,
     "metadata": {},
     "output_type": "execute_result"
    },
    {
     "data": {
      "image/png": "[encoded data removed]",
      "text/plain": [
       "<Figure size 640x480 with 1 Axes>"
      ]
     },
     "metadata": {},
     "output_type": "display_data"
    }
   ],
   "source": [
    "df_sto.store_segment.value_counts().plot.hist()"
   ]
  },
  {
   "cell_type": "code",
   "execution_count": 80,
   "id": "bc488b9c-0b80-42e3-9eb3-60029615429a",
   "metadata": {},
   "outputs": [
    {
     "data": {
      "text/plain": [
       "Index(['hub_id', 'hub_name', 'hub_city', 'hub_state', 'hub_latitude',\n",
       "       'hub_longitude'],\n",
       "      dtype='object')"
      ]
     },
     "execution_count": 80,
     "metadata": {},
     "output_type": "execute_result"
    }
   ],
   "source": [
    "df_hub.columns"
   ]
  },
  {
   "cell_type": "code",
   "execution_count": 81,
   "id": "599af022-619b-45e9-9302-f90a77fd995a",
   "metadata": {},
   "outputs": [
    {
     "data": {
      "text/plain": [
       "hub_city\n",
       "SÃO PAULO         15\n",
       "RIO DE JANEIRO     9\n",
       "PORTO ALEGRE       4\n",
       "CURITIBA           4\n",
       "Name: count, dtype: int64"
      ]
     },
     "execution_count": 81,
     "metadata": {},
     "output_type": "execute_result"
    }
   ],
   "source": [
    "df_hub.hub_city.value_counts()"
   ]
  },
  {
   "cell_type": "code",
   "execution_count": 98,
   "id": "58f0b8f8-2ab6-410b-99c7-5b123a7b69f9",
   "metadata": {},
   "outputs": [
    {
     "data": {
      "text/plain": [
       "<Axes: ylabel='Frequency'>"
      ]
     },
     "execution_count": 98,
     "metadata": {},
     "output_type": "execute_result"
    },
    {
     "data": {
      "image/png": "[encoded data removed]",
      "text/plain": [
       "<Figure size 640x480 with 1 Axes>"
      ]
     },
     "metadata": {},
     "output_type": "display_data"
    }
   ],
   "source": [
    "df_hub.hub_city.value_counts().plot.hist()"
   ]
  },
  {
   "cell_type": "code",
   "execution_count": 100,
   "id": "0f2bb4f9-dcb6-4018-ae4b-36ebe068b3b8",
   "metadata": {},
   "outputs": [],
   "source": [
    "df_hub_store=df_hub.merge(df_sto,how='inner',on = 'hub_id')"
   ]
  },
  {
   "cell_type": "code",
   "execution_count": 101,
   "id": "c2adfee9-3430-4c0a-bf3d-e874bd43aeca",
   "metadata": {},
   "outputs": [
    {
     "data": {
      "text/html": [
       "<div>\n",
       "<style scoped>\n",
       "    .dataframe tbody tr th:only-of-type {\n",
       "        vertical-align: middle;\n",
       "    }\n",
       "\n",
       "    .dataframe tbody tr th {\n",
       "        vertical-align: top;\n",
       "    }\n",
       "\n",
       "    .dataframe thead th {\n",
       "        text-align: right;\n",
       "    }\n",
       "</style>\n",
       "<table border=\"1\" class=\"dataframe\">\n",
       "  <thead>\n",
       "    <tr style=\"text-align: right;\">\n",
       "      <th></th>\n",
       "      <th>hub_id</th>\n",
       "      <th>hub_name</th>\n",
       "      <th>hub_city</th>\n",
       "      <th>hub_state</th>\n",
       "      <th>hub_latitude</th>\n",
       "      <th>hub_longitude</th>\n",
       "      <th>store_id</th>\n",
       "      <th>store_name</th>\n",
       "      <th>store_segment</th>\n",
       "      <th>store_plan_price</th>\n",
       "      <th>store_latitude</th>\n",
       "      <th>store_longitude</th>\n",
       "    </tr>\n",
       "  </thead>\n",
       "  <tbody>\n",
       "    <tr>\n",
       "      <th>0</th>\n",
       "      <td>2</td>\n",
       "      <td>BLUE SHOPPING</td>\n",
       "      <td>PORTO ALEGRE</td>\n",
       "      <td>RS</td>\n",
       "      <td>-30.047415</td>\n",
       "      <td>-51.213510</td>\n",
       "      <td>3</td>\n",
       "      <td>CUMIURI</td>\n",
       "      <td>FOOD</td>\n",
       "      <td>0.0</td>\n",
       "      <td>NaN</td>\n",
       "      <td>NaN</td>\n",
       "    </tr>\n",
       "    <tr>\n",
       "      <th>1</th>\n",
       "      <td>3</td>\n",
       "      <td>GREEN SHOPPING</td>\n",
       "      <td>PORTO ALEGRE</td>\n",
       "      <td>RS</td>\n",
       "      <td>-30.037415</td>\n",
       "      <td>-51.203520</td>\n",
       "      <td>6</td>\n",
       "      <td>PIMGUCIS DA VIVA</td>\n",
       "      <td>FOOD</td>\n",
       "      <td>0.0</td>\n",
       "      <td>-30.037415</td>\n",
       "      <td>-51.203520</td>\n",
       "    </tr>\n",
       "    <tr>\n",
       "      <th>2</th>\n",
       "      <td>3</td>\n",
       "      <td>GREEN SHOPPING</td>\n",
       "      <td>PORTO ALEGRE</td>\n",
       "      <td>RS</td>\n",
       "      <td>-30.037415</td>\n",
       "      <td>-51.203520</td>\n",
       "      <td>8</td>\n",
       "      <td>RASMUR S</td>\n",
       "      <td>FOOD</td>\n",
       "      <td>0.0</td>\n",
       "      <td>-30.037415</td>\n",
       "      <td>-51.203520</td>\n",
       "    </tr>\n",
       "    <tr>\n",
       "      <th>3</th>\n",
       "      <td>3</td>\n",
       "      <td>GREEN SHOPPING</td>\n",
       "      <td>PORTO ALEGRE</td>\n",
       "      <td>RS</td>\n",
       "      <td>-30.037415</td>\n",
       "      <td>-51.203520</td>\n",
       "      <td>524</td>\n",
       "      <td>ILA RIERUGI</td>\n",
       "      <td>GOOD</td>\n",
       "      <td>49.9</td>\n",
       "      <td>-30.037415</td>\n",
       "      <td>-51.203520</td>\n",
       "    </tr>\n",
       "    <tr>\n",
       "      <th>4</th>\n",
       "      <td>3</td>\n",
       "      <td>GREEN SHOPPING</td>\n",
       "      <td>PORTO ALEGRE</td>\n",
       "      <td>RS</td>\n",
       "      <td>-30.037415</td>\n",
       "      <td>-51.203520</td>\n",
       "      <td>545</td>\n",
       "      <td>IAMUR</td>\n",
       "      <td>FOOD</td>\n",
       "      <td>49.9</td>\n",
       "      <td>-30.037415</td>\n",
       "      <td>-51.203520</td>\n",
       "    </tr>\n",
       "    <tr>\n",
       "      <th>...</th>\n",
       "      <td>...</td>\n",
       "      <td>...</td>\n",
       "      <td>...</td>\n",
       "      <td>...</td>\n",
       "      <td>...</td>\n",
       "      <td>...</td>\n",
       "      <td>...</td>\n",
       "      <td>...</td>\n",
       "      <td>...</td>\n",
       "      <td>...</td>\n",
       "      <td>...</td>\n",
       "      <td>...</td>\n",
       "    </tr>\n",
       "    <tr>\n",
       "      <th>946</th>\n",
       "      <td>86</td>\n",
       "      <td>R SHOPPING</td>\n",
       "      <td>SÃO PAULO</td>\n",
       "      <td>SP</td>\n",
       "      <td>-23.541502</td>\n",
       "      <td>-46.576618</td>\n",
       "      <td>4139</td>\n",
       "      <td>MIAOIMG</td>\n",
       "      <td>FOOD</td>\n",
       "      <td>49.0</td>\n",
       "      <td>-23.541502</td>\n",
       "      <td>-46.576718</td>\n",
       "    </tr>\n",
       "    <tr>\n",
       "      <th>947</th>\n",
       "      <td>86</td>\n",
       "      <td>R SHOPPING</td>\n",
       "      <td>SÃO PAULO</td>\n",
       "      <td>SP</td>\n",
       "      <td>-23.541502</td>\n",
       "      <td>-46.576618</td>\n",
       "      <td>4373</td>\n",
       "      <td>MICI PULA</td>\n",
       "      <td>FOOD</td>\n",
       "      <td>49.0</td>\n",
       "      <td>-23.541502</td>\n",
       "      <td>-46.576718</td>\n",
       "    </tr>\n",
       "    <tr>\n",
       "      <th>948</th>\n",
       "      <td>86</td>\n",
       "      <td>R SHOPPING</td>\n",
       "      <td>SÃO PAULO</td>\n",
       "      <td>SP</td>\n",
       "      <td>-23.541502</td>\n",
       "      <td>-46.576618</td>\n",
       "      <td>4558</td>\n",
       "      <td>MIAF</td>\n",
       "      <td>GOOD</td>\n",
       "      <td>49.0</td>\n",
       "      <td>-23.541502</td>\n",
       "      <td>-46.576718</td>\n",
       "    </tr>\n",
       "    <tr>\n",
       "      <th>949</th>\n",
       "      <td>86</td>\n",
       "      <td>R SHOPPING</td>\n",
       "      <td>SÃO PAULO</td>\n",
       "      <td>SP</td>\n",
       "      <td>-23.541502</td>\n",
       "      <td>-46.576618</td>\n",
       "      <td>4648</td>\n",
       "      <td>ILAPIARUGAIMI</td>\n",
       "      <td>FOOD</td>\n",
       "      <td>49.9</td>\n",
       "      <td>-23.541502</td>\n",
       "      <td>-46.576718</td>\n",
       "    </tr>\n",
       "    <tr>\n",
       "      <th>950</th>\n",
       "      <td>91</td>\n",
       "      <td>GAROA SHOPPING</td>\n",
       "      <td>SÃO PAULO</td>\n",
       "      <td>SP</td>\n",
       "      <td>-23.525124</td>\n",
       "      <td>-46.546807</td>\n",
       "      <td>3835</td>\n",
       "      <td>MUG</td>\n",
       "      <td>GOOD</td>\n",
       "      <td>29.0</td>\n",
       "      <td>-19.875356</td>\n",
       "      <td>-43.925262</td>\n",
       "    </tr>\n",
       "  </tbody>\n",
       "</table>\n",
       "<p>951 rows × 12 columns</p>\n",
       "</div>"
      ],
      "text/plain": [
       "     hub_id        hub_name      hub_city hub_state  hub_latitude  \\\n",
       "0         2   BLUE SHOPPING  PORTO ALEGRE        RS    -30.047415   \n",
       "1         3  GREEN SHOPPING  PORTO ALEGRE        RS    -30.037415   \n",
       "2         3  GREEN SHOPPING  PORTO ALEGRE        RS    -30.037415   \n",
       "3         3  GREEN SHOPPING  PORTO ALEGRE        RS    -30.037415   \n",
       "4         3  GREEN SHOPPING  PORTO ALEGRE        RS    -30.037415   \n",
       "..      ...             ...           ...       ...           ...   \n",
       "946      86      R SHOPPING     SÃO PAULO        SP    -23.541502   \n",
       "947      86      R SHOPPING     SÃO PAULO        SP    -23.541502   \n",
       "948      86      R SHOPPING     SÃO PAULO        SP    -23.541502   \n",
       "949      86      R SHOPPING     SÃO PAULO        SP    -23.541502   \n",
       "950      91  GAROA SHOPPING     SÃO PAULO        SP    -23.525124   \n",
       "\n",
       "     hub_longitude  store_id         store_name store_segment  \\\n",
       "0       -51.213510         3            CUMIURI          FOOD   \n",
       "1       -51.203520         6  PIMGUCIS DA VIVA           FOOD   \n",
       "2       -51.203520         8          RASMUR S           FOOD   \n",
       "3       -51.203520       524       ILA RIERUGI           GOOD   \n",
       "4       -51.203520       545             IAMUR           FOOD   \n",
       "..             ...       ...                ...           ...   \n",
       "946     -46.576618      4139           MIAOIMG           FOOD   \n",
       "947     -46.576618      4373          MICI PULA          FOOD   \n",
       "948     -46.576618      4558              MIAF           GOOD   \n",
       "949     -46.576618      4648     ILAPIARUGAIMI           FOOD   \n",
       "950     -46.546807      3835               MUG           GOOD   \n",
       "\n",
       "     store_plan_price  store_latitude  store_longitude  \n",
       "0                 0.0             NaN              NaN  \n",
       "1                 0.0      -30.037415       -51.203520  \n",
       "2                 0.0      -30.037415       -51.203520  \n",
       "3                49.9      -30.037415       -51.203520  \n",
       "4                49.9      -30.037415       -51.203520  \n",
       "..                ...             ...              ...  \n",
       "946              49.0      -23.541502       -46.576718  \n",
       "947              49.0      -23.541502       -46.576718  \n",
       "948              49.0      -23.541502       -46.576718  \n",
       "949              49.9      -23.541502       -46.576718  \n",
       "950              29.0      -19.875356       -43.925262  \n",
       "\n",
       "[951 rows x 12 columns]"
      ]
     },
     "execution_count": 101,
     "metadata": {},
     "output_type": "execute_result"
    }
   ],
   "source": [
    "df_hub_store"
   ]
  },
  {
   "cell_type": "code",
   "execution_count": 103,
   "id": "86b63870-ddbb-452a-badc-065ddf2b3327",
   "metadata": {},
   "outputs": [
    {
     "data": {
      "text/html": [
       "<div>\n",
       "<style scoped>\n",
       "    .dataframe tbody tr th:only-of-type {\n",
       "        vertical-align: middle;\n",
       "    }\n",
       "\n",
       "    .dataframe tbody tr th {\n",
       "        vertical-align: top;\n",
       "    }\n",
       "\n",
       "    .dataframe thead th {\n",
       "        text-align: right;\n",
       "    }\n",
       "</style>\n",
       "<table border=\"1\" class=\"dataframe\">\n",
       "  <thead>\n",
       "    <tr style=\"text-align: right;\">\n",
       "      <th></th>\n",
       "      <th>hub_id</th>\n",
       "      <th>hub_name</th>\n",
       "      <th>hub_city</th>\n",
       "      <th>hub_state</th>\n",
       "      <th>hub_latitude</th>\n",
       "      <th>hub_longitude</th>\n",
       "      <th>store_id</th>\n",
       "      <th>store_name</th>\n",
       "      <th>store_segment</th>\n",
       "      <th>store_plan_price</th>\n",
       "      <th>...</th>\n",
       "      <th>order_moment_delivering</th>\n",
       "      <th>order_moment_delivered</th>\n",
       "      <th>order_moment_finished</th>\n",
       "      <th>order_metric_collected_time</th>\n",
       "      <th>order_metric_paused_time</th>\n",
       "      <th>order_metric_production_time</th>\n",
       "      <th>order_metric_walking_time</th>\n",
       "      <th>order_metric_expediton_speed_time</th>\n",
       "      <th>order_metric_transit_time</th>\n",
       "      <th>order_metric_cycle_time</th>\n",
       "    </tr>\n",
       "  </thead>\n",
       "  <tbody>\n",
       "    <tr>\n",
       "      <th>0</th>\n",
       "      <td>2</td>\n",
       "      <td>BLUE SHOPPING</td>\n",
       "      <td>PORTO ALEGRE</td>\n",
       "      <td>RS</td>\n",
       "      <td>-30.047415</td>\n",
       "      <td>-51.213510</td>\n",
       "      <td>3</td>\n",
       "      <td>CUMIURI</td>\n",
       "      <td>FOOD</td>\n",
       "      <td>0.0</td>\n",
       "      <td>...</td>\n",
       "      <td>NaN</td>\n",
       "      <td>NaN</td>\n",
       "      <td>NaN</td>\n",
       "      <td>NaN</td>\n",
       "      <td>NaN</td>\n",
       "      <td>NaN</td>\n",
       "      <td>NaN</td>\n",
       "      <td>NaN</td>\n",
       "      <td>NaN</td>\n",
       "      <td>NaN</td>\n",
       "    </tr>\n",
       "    <tr>\n",
       "      <th>1</th>\n",
       "      <td>2</td>\n",
       "      <td>BLUE SHOPPING</td>\n",
       "      <td>PORTO ALEGRE</td>\n",
       "      <td>RS</td>\n",
       "      <td>-30.047415</td>\n",
       "      <td>-51.213510</td>\n",
       "      <td>3</td>\n",
       "      <td>CUMIURI</td>\n",
       "      <td>FOOD</td>\n",
       "      <td>0.0</td>\n",
       "      <td>...</td>\n",
       "      <td>NaN</td>\n",
       "      <td>NaN</td>\n",
       "      <td>NaN</td>\n",
       "      <td>NaN</td>\n",
       "      <td>NaN</td>\n",
       "      <td>NaN</td>\n",
       "      <td>NaN</td>\n",
       "      <td>NaN</td>\n",
       "      <td>NaN</td>\n",
       "      <td>NaN</td>\n",
       "    </tr>\n",
       "    <tr>\n",
       "      <th>2</th>\n",
       "      <td>2</td>\n",
       "      <td>BLUE SHOPPING</td>\n",
       "      <td>PORTO ALEGRE</td>\n",
       "      <td>RS</td>\n",
       "      <td>-30.047415</td>\n",
       "      <td>-51.213510</td>\n",
       "      <td>3</td>\n",
       "      <td>CUMIURI</td>\n",
       "      <td>FOOD</td>\n",
       "      <td>0.0</td>\n",
       "      <td>...</td>\n",
       "      <td>NaN</td>\n",
       "      <td>NaN</td>\n",
       "      <td>NaN</td>\n",
       "      <td>NaN</td>\n",
       "      <td>NaN</td>\n",
       "      <td>NaN</td>\n",
       "      <td>NaN</td>\n",
       "      <td>NaN</td>\n",
       "      <td>NaN</td>\n",
       "      <td>NaN</td>\n",
       "    </tr>\n",
       "    <tr>\n",
       "      <th>3</th>\n",
       "      <td>2</td>\n",
       "      <td>BLUE SHOPPING</td>\n",
       "      <td>PORTO ALEGRE</td>\n",
       "      <td>RS</td>\n",
       "      <td>-30.047415</td>\n",
       "      <td>-51.213510</td>\n",
       "      <td>3</td>\n",
       "      <td>CUMIURI</td>\n",
       "      <td>FOOD</td>\n",
       "      <td>0.0</td>\n",
       "      <td>...</td>\n",
       "      <td>NaN</td>\n",
       "      <td>NaN</td>\n",
       "      <td>NaN</td>\n",
       "      <td>NaN</td>\n",
       "      <td>NaN</td>\n",
       "      <td>NaN</td>\n",
       "      <td>NaN</td>\n",
       "      <td>NaN</td>\n",
       "      <td>NaN</td>\n",
       "      <td>NaN</td>\n",
       "    </tr>\n",
       "    <tr>\n",
       "      <th>4</th>\n",
       "      <td>2</td>\n",
       "      <td>BLUE SHOPPING</td>\n",
       "      <td>PORTO ALEGRE</td>\n",
       "      <td>RS</td>\n",
       "      <td>-30.047415</td>\n",
       "      <td>-51.213510</td>\n",
       "      <td>3</td>\n",
       "      <td>CUMIURI</td>\n",
       "      <td>FOOD</td>\n",
       "      <td>0.0</td>\n",
       "      <td>...</td>\n",
       "      <td>NaN</td>\n",
       "      <td>NaN</td>\n",
       "      <td>NaN</td>\n",
       "      <td>NaN</td>\n",
       "      <td>NaN</td>\n",
       "      <td>NaN</td>\n",
       "      <td>NaN</td>\n",
       "      <td>NaN</td>\n",
       "      <td>NaN</td>\n",
       "      <td>NaN</td>\n",
       "    </tr>\n",
       "    <tr>\n",
       "      <th>...</th>\n",
       "      <td>...</td>\n",
       "      <td>...</td>\n",
       "      <td>...</td>\n",
       "      <td>...</td>\n",
       "      <td>...</td>\n",
       "      <td>...</td>\n",
       "      <td>...</td>\n",
       "      <td>...</td>\n",
       "      <td>...</td>\n",
       "      <td>...</td>\n",
       "      <td>...</td>\n",
       "      <td>...</td>\n",
       "      <td>...</td>\n",
       "      <td>...</td>\n",
       "      <td>...</td>\n",
       "      <td>...</td>\n",
       "      <td>...</td>\n",
       "      <td>...</td>\n",
       "      <td>...</td>\n",
       "      <td>...</td>\n",
       "      <td>...</td>\n",
       "    </tr>\n",
       "    <tr>\n",
       "      <th>368994</th>\n",
       "      <td>86</td>\n",
       "      <td>R SHOPPING</td>\n",
       "      <td>SÃO PAULO</td>\n",
       "      <td>SP</td>\n",
       "      <td>-23.541502</td>\n",
       "      <td>-46.576618</td>\n",
       "      <td>4648</td>\n",
       "      <td>ILAPIARUGAIMI</td>\n",
       "      <td>FOOD</td>\n",
       "      <td>49.9</td>\n",
       "      <td>...</td>\n",
       "      <td>4/30/2021 4:01:39 PM</td>\n",
       "      <td>NaN</td>\n",
       "      <td>4/30/2021 4:25:36 PM</td>\n",
       "      <td>2.08</td>\n",
       "      <td>2.17</td>\n",
       "      <td>6.03</td>\n",
       "      <td>3.30</td>\n",
       "      <td>5.47</td>\n",
       "      <td>23.95</td>\n",
       "      <td>35.47</td>\n",
       "    </tr>\n",
       "    <tr>\n",
       "      <th>368995</th>\n",
       "      <td>86</td>\n",
       "      <td>R SHOPPING</td>\n",
       "      <td>SÃO PAULO</td>\n",
       "      <td>SP</td>\n",
       "      <td>-23.541502</td>\n",
       "      <td>-46.576618</td>\n",
       "      <td>4648</td>\n",
       "      <td>ILAPIARUGAIMI</td>\n",
       "      <td>FOOD</td>\n",
       "      <td>49.9</td>\n",
       "      <td>...</td>\n",
       "      <td>4/30/2021 7:02:57 PM</td>\n",
       "      <td>NaN</td>\n",
       "      <td>4/30/2021 7:16:34 PM</td>\n",
       "      <td>0.55</td>\n",
       "      <td>0.75</td>\n",
       "      <td>13.22</td>\n",
       "      <td>3.42</td>\n",
       "      <td>4.17</td>\n",
       "      <td>13.62</td>\n",
       "      <td>31.00</td>\n",
       "    </tr>\n",
       "    <tr>\n",
       "      <th>368996</th>\n",
       "      <td>86</td>\n",
       "      <td>R SHOPPING</td>\n",
       "      <td>SÃO PAULO</td>\n",
       "      <td>SP</td>\n",
       "      <td>-23.541502</td>\n",
       "      <td>-46.576618</td>\n",
       "      <td>4648</td>\n",
       "      <td>ILAPIARUGAIMI</td>\n",
       "      <td>FOOD</td>\n",
       "      <td>49.9</td>\n",
       "      <td>...</td>\n",
       "      <td>4/30/2021 10:01:27 PM</td>\n",
       "      <td>NaN</td>\n",
       "      <td>4/30/2021 10:22:37 PM</td>\n",
       "      <td>0.33</td>\n",
       "      <td>2.63</td>\n",
       "      <td>12.12</td>\n",
       "      <td>1.97</td>\n",
       "      <td>4.60</td>\n",
       "      <td>21.17</td>\n",
       "      <td>37.88</td>\n",
       "    </tr>\n",
       "    <tr>\n",
       "      <th>368997</th>\n",
       "      <td>86</td>\n",
       "      <td>R SHOPPING</td>\n",
       "      <td>SÃO PAULO</td>\n",
       "      <td>SP</td>\n",
       "      <td>-23.541502</td>\n",
       "      <td>-46.576618</td>\n",
       "      <td>4648</td>\n",
       "      <td>ILAPIARUGAIMI</td>\n",
       "      <td>FOOD</td>\n",
       "      <td>49.9</td>\n",
       "      <td>...</td>\n",
       "      <td>4/30/2021 11:21:32 PM</td>\n",
       "      <td>NaN</td>\n",
       "      <td>4/30/2021 11:35:10 PM</td>\n",
       "      <td>0.23</td>\n",
       "      <td>0.73</td>\n",
       "      <td>13.30</td>\n",
       "      <td>1.72</td>\n",
       "      <td>2.45</td>\n",
       "      <td>13.63</td>\n",
       "      <td>29.40</td>\n",
       "    </tr>\n",
       "    <tr>\n",
       "      <th>368998</th>\n",
       "      <td>91</td>\n",
       "      <td>GAROA SHOPPING</td>\n",
       "      <td>SÃO PAULO</td>\n",
       "      <td>SP</td>\n",
       "      <td>-23.525124</td>\n",
       "      <td>-46.546807</td>\n",
       "      <td>3835</td>\n",
       "      <td>MUG</td>\n",
       "      <td>GOOD</td>\n",
       "      <td>29.0</td>\n",
       "      <td>...</td>\n",
       "      <td>NaN</td>\n",
       "      <td>NaN</td>\n",
       "      <td>NaN</td>\n",
       "      <td>NaN</td>\n",
       "      <td>NaN</td>\n",
       "      <td>NaN</td>\n",
       "      <td>NaN</td>\n",
       "      <td>NaN</td>\n",
       "      <td>NaN</td>\n",
       "      <td>NaN</td>\n",
       "    </tr>\n",
       "  </tbody>\n",
       "</table>\n",
       "<p>368999 rows × 40 columns</p>\n",
       "</div>"
      ],
      "text/plain": [
       "        hub_id        hub_name      hub_city hub_state  hub_latitude  \\\n",
       "0            2   BLUE SHOPPING  PORTO ALEGRE        RS    -30.047415   \n",
       "1            2   BLUE SHOPPING  PORTO ALEGRE        RS    -30.047415   \n",
       "2            2   BLUE SHOPPING  PORTO ALEGRE        RS    -30.047415   \n",
       "3            2   BLUE SHOPPING  PORTO ALEGRE        RS    -30.047415   \n",
       "4            2   BLUE SHOPPING  PORTO ALEGRE        RS    -30.047415   \n",
       "...        ...             ...           ...       ...           ...   \n",
       "368994      86      R SHOPPING     SÃO PAULO        SP    -23.541502   \n",
       "368995      86      R SHOPPING     SÃO PAULO        SP    -23.541502   \n",
       "368996      86      R SHOPPING     SÃO PAULO        SP    -23.541502   \n",
       "368997      86      R SHOPPING     SÃO PAULO        SP    -23.541502   \n",
       "368998      91  GAROA SHOPPING     SÃO PAULO        SP    -23.525124   \n",
       "\n",
       "        hub_longitude  store_id      store_name store_segment  \\\n",
       "0          -51.213510         3         CUMIURI          FOOD   \n",
       "1          -51.213510         3         CUMIURI          FOOD   \n",
       "2          -51.213510         3         CUMIURI          FOOD   \n",
       "3          -51.213510         3         CUMIURI          FOOD   \n",
       "4          -51.213510         3         CUMIURI          FOOD   \n",
       "...               ...       ...             ...           ...   \n",
       "368994     -46.576618      4648  ILAPIARUGAIMI           FOOD   \n",
       "368995     -46.576618      4648  ILAPIARUGAIMI           FOOD   \n",
       "368996     -46.576618      4648  ILAPIARUGAIMI           FOOD   \n",
       "368997     -46.576618      4648  ILAPIARUGAIMI           FOOD   \n",
       "368998     -46.546807      3835            MUG           GOOD   \n",
       "\n",
       "        store_plan_price  ...  order_moment_delivering  \\\n",
       "0                    0.0  ...                      NaN   \n",
       "1                    0.0  ...                      NaN   \n",
       "2                    0.0  ...                      NaN   \n",
       "3                    0.0  ...                      NaN   \n",
       "4                    0.0  ...                      NaN   \n",
       "...                  ...  ...                      ...   \n",
       "368994              49.9  ...     4/30/2021 4:01:39 PM   \n",
       "368995              49.9  ...     4/30/2021 7:02:57 PM   \n",
       "368996              49.9  ...    4/30/2021 10:01:27 PM   \n",
       "368997              49.9  ...    4/30/2021 11:21:32 PM   \n",
       "368998              29.0  ...                      NaN   \n",
       "\n",
       "        order_moment_delivered  order_moment_finished  \\\n",
       "0                          NaN                    NaN   \n",
       "1                          NaN                    NaN   \n",
       "2                          NaN                    NaN   \n",
       "3                          NaN                    NaN   \n",
       "4                          NaN                    NaN   \n",
       "...                        ...                    ...   \n",
       "368994                     NaN   4/30/2021 4:25:36 PM   \n",
       "368995                     NaN   4/30/2021 7:16:34 PM   \n",
       "368996                     NaN  4/30/2021 10:22:37 PM   \n",
       "368997                     NaN  4/30/2021 11:35:10 PM   \n",
       "368998                     NaN                    NaN   \n",
       "\n",
       "        order_metric_collected_time  order_metric_paused_time  \\\n",
       "0                               NaN                       NaN   \n",
       "1                               NaN                       NaN   \n",
       "2                               NaN                       NaN   \n",
       "3                               NaN                       NaN   \n",
       "4                               NaN                       NaN   \n",
       "...                             ...                       ...   \n",
       "368994                         2.08                      2.17   \n",
       "368995                         0.55                      0.75   \n",
       "368996                         0.33                      2.63   \n",
       "368997                         0.23                      0.73   \n",
       "368998                          NaN                       NaN   \n",
       "\n",
       "        order_metric_production_time order_metric_walking_time  \\\n",
       "0                                NaN                       NaN   \n",
       "1                                NaN                       NaN   \n",
       "2                                NaN                       NaN   \n",
       "3                                NaN                       NaN   \n",
       "4                                NaN                       NaN   \n",
       "...                              ...                       ...   \n",
       "368994                          6.03                      3.30   \n",
       "368995                         13.22                      3.42   \n",
       "368996                         12.12                      1.97   \n",
       "368997                         13.30                      1.72   \n",
       "368998                           NaN                       NaN   \n",
       "\n",
       "        order_metric_expediton_speed_time  order_metric_transit_time  \\\n",
       "0                                     NaN                        NaN   \n",
       "1                                     NaN                        NaN   \n",
       "2                                     NaN                        NaN   \n",
       "3                                     NaN                        NaN   \n",
       "4                                     NaN                        NaN   \n",
       "...                                   ...                        ...   \n",
       "368994                               5.47                      23.95   \n",
       "368995                               4.17                      13.62   \n",
       "368996                               4.60                      21.17   \n",
       "368997                               2.45                      13.63   \n",
       "368998                                NaN                        NaN   \n",
       "\n",
       "        order_metric_cycle_time  \n",
       "0                           NaN  \n",
       "1                           NaN  \n",
       "2                           NaN  \n",
       "3                           NaN  \n",
       "4                           NaN  \n",
       "...                         ...  \n",
       "368994                    35.47  \n",
       "368995                    31.00  \n",
       "368996                    37.88  \n",
       "368997                    29.40  \n",
       "368998                      NaN  \n",
       "\n",
       "[368999 rows x 40 columns]"
      ]
     },
     "execution_count": 103,
     "metadata": {},
     "output_type": "execute_result"
    }
   ],
   "source": [
    "df_hub_sto_ord = df_hub_store.merge(df_ord,how='inner',on ='store_id')\n",
    "df_hub_sto_ord"
   ]
  },
  {
   "cell_type": "code",
   "execution_count": 107,
   "id": "974f6c90-769d-4346-b3da-ba0ec2001ae8",
   "metadata": {},
   "outputs": [
    {
     "data": {
      "text/plain": [
       "Index(['order_id', 'store_id', 'channel_id', 'payment_order_id',\n",
       "       'delivery_order_id', 'order_status', 'order_amount',\n",
       "       'order_delivery_fee', 'order_delivery_cost', 'order_created_hour',\n",
       "       'order_created_minute', 'order_created_day', 'order_created_month',\n",
       "       'order_created_year', 'order_moment_created', 'order_moment_accepted',\n",
       "       'order_moment_ready', 'order_moment_collected',\n",
       "       'order_moment_in_expedition', 'order_moment_delivering',\n",
       "       'order_moment_delivered', 'order_moment_finished',\n",
       "       'order_metric_collected_time', 'order_metric_paused_time',\n",
       "       'order_metric_production_time', 'order_metric_walking_time',\n",
       "       'order_metric_expediton_speed_time', 'order_metric_transit_time',\n",
       "       'order_metric_cycle_time'],\n",
       "      dtype='object')"
      ]
     },
     "execution_count": 107,
     "metadata": {},
     "output_type": "execute_result"
    }
   ],
   "source": [
    "df_ord.columns"
   ]
  },
  {
   "cell_type": "code",
   "execution_count": 112,
   "id": "b347e960-6edb-4754-8eed-4491a51ad777",
   "metadata": {},
   "outputs": [
    {
     "data": {
      "text/plain": [
       "(29,)"
      ]
     },
     "execution_count": 112,
     "metadata": {},
     "output_type": "execute_result"
    }
   ],
   "source": [
    "df_ord.columns.shape"
   ]
  },
  {
   "cell_type": "code",
   "execution_count": 114,
   "id": "be991ab9-07e3-412b-8759-2f108678a7f4",
   "metadata": {},
   "outputs": [
    {
     "name": "stdout",
     "output_type": "stream",
     "text": [
      "Collecting mysql\n",
      "  Downloading mysql-0.0.3-py3-none-any.whl (1.2 kB)\n",
      "Collecting mysqlclient (from mysql)\n",
      "  Obtaining dependency information for mysqlclient from https://files.pythonhosted.org/packages/e0/68/b9ab8d1287f91252aa4f7908bcf833e1852869cf558fcece2dc5f1533dde/mysqlclient-2.2.1-cp39-cp39-win_amd64.whl.metadata\n",
      "  Downloading mysqlclient-2.2.1-cp39-cp39-win_amd64.whl.metadata (4.6 kB)\n",
      "Downloading mysqlclient-2.2.1-cp39-cp39-win_amd64.whl (202 kB)\n",
      "   ---------------------------------------- 0.0/202.8 kB ? eta -:--:--\n",
      "   -- ------------------------------------- 10.2/202.8 kB ? eta -:--:--\n",
      "   ----- --------------------------------- 30.7/202.8 kB 435.7 kB/s eta 0:00:01\n",
      "   ----------- --------------------------- 61.4/202.8 kB 409.6 kB/s eta 0:00:01\n",
      "   --------------------- ---------------- 112.6/202.8 kB 595.3 kB/s eta 0:00:01\n",
      "   -------------------------- ----------- 143.4/202.8 kB 568.9 kB/s eta 0:00:01\n",
      "   ------------------------------------ - 194.6/202.8 kB 737.3 kB/s eta 0:00:01\n",
      "   -------------------------------------- 202.8/202.8 kB 685.2 kB/s eta 0:00:00\n",
      "Installing collected packages: mysqlclient, mysql\n",
      "Successfully installed mysql-0.0.3 mysqlclient-2.2.1\n"
     ]
    },
    {
     "name": "stderr",
     "output_type": "stream",
     "text": [
      "WARNING: Ignoring invalid distribution -pencv-python (c:\\users\\ifam_cmzl\\anaconda3\\envs\\introam\\lib\\site-packages)\n",
      "WARNING: Ignoring invalid distribution -pencv-python (c:\\users\\ifam_cmzl\\anaconda3\\envs\\introam\\lib\\site-packages)\n"
     ]
    }
   ],
   "source": [
    "!pip install mysql\n"
   ]
  },
  {
   "cell_type": "code",
   "execution_count": 115,
   "id": "6c7bdf5a-c09f-4ecc-b8a7-59c74076002f",
   "metadata": {},
   "outputs": [],
   "source": [
    "import pymysql\n",
    "import os"
   ]
  },
  {
   "cell_type": "code",
   "execution_count": 116,
   "id": "576e1358-d828-4b8e-b7e6-39b4a62c8a4e",
   "metadata": {},
   "outputs": [],
   "source": [
    "host=os.getenv(\"MYSQL_HOST\")\n",
    "PORT=os.getenv(\"MYSQL_PORT\")\n",
    "password=os.getenv(\"MYSQL_PASSWORD\")\n",
    "database=os.getenv(\"MYSQL_DATABASE\")\n",
    "conn = pymysql.connect(\n",
    "    host='172.16.34.254',\n",
    "    port=int(3309),\n",
    "    user='usuario',\n",
    "    password= 'IFAM',\n",
    "    db='bd_teste',\n",
    "    charset='utf8mb4')"
   ]
  },
  {
   "cell_type": "code",
   "execution_count": 117,
   "id": "af781ab3-bd80-4a2b-bbd4-7f3a11f51c67",
   "metadata": {},
   "outputs": [
    {
     "name": "stderr",
     "output_type": "stream",
     "text": [
      "C:\\Users\\IFAM_CMZL\\AppData\\Local\\Temp\\ipykernel_8548\\2374797442.py:1: UserWarning: pandas only supports SQLAlchemy connectable (engine/connection) or database string URI or sqlite3 DBAPI2 connection. Other DBAPI2 objects are not tested. Please consider using SQLAlchemy.\n",
      "  df_cli=pd.read_sql_query('select clinome, clirendamensal,clisexo from cliente',conn)\n"
     ]
    }
   ],
   "source": [
    "df_cli=pd.read_sql_query('select clinome, clirendamensal,clisexo from cliente',conn)"
   ]
  },
  {
   "cell_type": "code",
   "execution_count": 118,
   "id": "e1d7debb-e391-434c-a450-5d60c69cdf4e",
   "metadata": {},
   "outputs": [
    {
     "data": {
      "text/html": [
       "<div>\n",
       "<style scoped>\n",
       "    .dataframe tbody tr th:only-of-type {\n",
       "        vertical-align: middle;\n",
       "    }\n",
       "\n",
       "    .dataframe tbody tr th {\n",
       "        vertical-align: top;\n",
       "    }\n",
       "\n",
       "    .dataframe thead th {\n",
       "        text-align: right;\n",
       "    }\n",
       "</style>\n",
       "<table border=\"1\" class=\"dataframe\">\n",
       "  <thead>\n",
       "    <tr style=\"text-align: right;\">\n",
       "      <th></th>\n",
       "      <th>clinome</th>\n",
       "      <th>clirendamensal</th>\n",
       "      <th>clisexo</th>\n",
       "    </tr>\n",
       "  </thead>\n",
       "  <tbody>\n",
       "    <tr>\n",
       "      <th>0</th>\n",
       "      <td>GANDERSON DOS SANTOS</td>\n",
       "      <td>2100.0</td>\n",
       "      <td>M</td>\n",
       "    </tr>\n",
       "    <tr>\n",
       "      <th>1</th>\n",
       "      <td>FRANCISCO DOS SANTOS OLIVEIRA</td>\n",
       "      <td>3220.0</td>\n",
       "      <td>M</td>\n",
       "    </tr>\n",
       "    <tr>\n",
       "      <th>2</th>\n",
       "      <td>CARLOS SOUZA MAGALHAES</td>\n",
       "      <td>1330.0</td>\n",
       "      <td>M</td>\n",
       "    </tr>\n",
       "    <tr>\n",
       "      <th>3</th>\n",
       "      <td>CLEUMA O DIAS</td>\n",
       "      <td>2030.0</td>\n",
       "      <td>F</td>\n",
       "    </tr>\n",
       "    <tr>\n",
       "      <th>4</th>\n",
       "      <td>MARIA R MARTINS</td>\n",
       "      <td>2660.0</td>\n",
       "      <td>F</td>\n",
       "    </tr>\n",
       "    <tr>\n",
       "      <th>...</th>\n",
       "      <td>...</td>\n",
       "      <td>...</td>\n",
       "      <td>...</td>\n",
       "    </tr>\n",
       "    <tr>\n",
       "      <th>525</th>\n",
       "      <td>JOSE ALBERTO</td>\n",
       "      <td>1398.6</td>\n",
       "      <td>M</td>\n",
       "    </tr>\n",
       "    <tr>\n",
       "      <th>526</th>\n",
       "      <td>Marcelo Chamy Machado</td>\n",
       "      <td>NaN</td>\n",
       "      <td>M</td>\n",
       "    </tr>\n",
       "    <tr>\n",
       "      <th>527</th>\n",
       "      <td>TESTE TRIGGER</td>\n",
       "      <td>2800.0</td>\n",
       "      <td>M</td>\n",
       "    </tr>\n",
       "    <tr>\n",
       "      <th>528</th>\n",
       "      <td>TESTE TRIGGER</td>\n",
       "      <td>2800.0</td>\n",
       "      <td>M</td>\n",
       "    </tr>\n",
       "    <tr>\n",
       "      <th>529</th>\n",
       "      <td>teste</td>\n",
       "      <td>1680.0</td>\n",
       "      <td>f</td>\n",
       "    </tr>\n",
       "  </tbody>\n",
       "</table>\n",
       "<p>530 rows × 3 columns</p>\n",
       "</div>"
      ],
      "text/plain": [
       "                           clinome  clirendamensal clisexo\n",
       "0             GANDERSON DOS SANTOS          2100.0       M\n",
       "1    FRANCISCO DOS SANTOS OLIVEIRA          3220.0       M\n",
       "2           CARLOS SOUZA MAGALHAES          1330.0       M\n",
       "3                    CLEUMA O DIAS          2030.0       F\n",
       "4                  MARIA R MARTINS          2660.0       F\n",
       "..                             ...             ...     ...\n",
       "525                   JOSE ALBERTO          1398.6       M\n",
       "526          Marcelo Chamy Machado             NaN       M\n",
       "527                  TESTE TRIGGER          2800.0       M\n",
       "528                  TESTE TRIGGER          2800.0       M\n",
       "529                          teste          1680.0       f\n",
       "\n",
       "[530 rows x 3 columns]"
      ]
     },
     "execution_count": 118,
     "metadata": {},
     "output_type": "execute_result"
    }
   ],
   "source": [
    "df_cli"
   ]
  },
  {
   "cell_type": "code",
   "execution_count": null,
   "id": "66f3d976-f550-420d-9bfa-67340aafb401",
   "metadata": {},
   "outputs": [],
   "source": []
  }
 ],
 "metadata": {
  "kernelspec": {
   "display_name": "Python 3 (ipykernel)",
   "language": "python",
   "name": "python3"
  },
  "language_info": {
   "codemirror_mode": {
    "name": "ipython",
    "version": 3
   },
   "file_extension": ".py",
   "mimetype": "text/x-python",
   "name": "python",
   "nbconvert_exporter": "python",
   "pygments_lexer": "ipython3",
   "version": "3.9.18"
  }
 },
 "nbformat": 4,
 "nbformat_minor": 5
}
