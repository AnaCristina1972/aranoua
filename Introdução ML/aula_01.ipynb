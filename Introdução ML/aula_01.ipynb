{
 "cells": [
  {
   "cell_type": "markdown",
   "id": "5bb5dbd3-c3db-4168-b821-0a904259b64c",
   "metadata": {},
   "source": [
    "## Numpy"
   ]
  },
  {
   "cell_type": "code",
   "execution_count": 3,
   "id": "a0c3bdd1-1cea-40fd-a20f-2aa67a6cb941",
   "metadata": {},
   "outputs": [],
   "source": [
    "import numpy as np"
   ]
  },
  {
   "cell_type": "code",
   "execution_count": 4,
   "id": "97f4deb8-b7dd-4111-9e23-39737cda58c8",
   "metadata": {},
   "outputs": [
    {
     "data": {
      "text/plain": [
       "'1.25.2'"
      ]
     },
     "execution_count": 4,
     "metadata": {},
     "output_type": "execute_result"
    }
   ],
   "source": [
    "np.__version__"
   ]
  },
  {
   "cell_type": "code",
   "execution_count": 5,
   "id": "63d9132b-6776-4f4b-bc02-3dfc5fb84245",
   "metadata": {},
   "outputs": [],
   "source": [
    "m1=np.array([2,4,6,8,10])\n",
    "m2=np.array([1,3,5,7,9])"
   ]
  },
  {
   "cell_type": "code",
   "execution_count": 6,
   "id": "4bdf77f5-6b76-4eb2-b16d-27f76c3dd652",
   "metadata": {},
   "outputs": [
    {
     "data": {
      "text/plain": [
       "array([ 3,  7, 11, 15, 19])"
      ]
     },
     "execution_count": 6,
     "metadata": {},
     "output_type": "execute_result"
    }
   ],
   "source": [
    "m1+m2"
   ]
  },
  {
   "cell_type": "code",
   "execution_count": 7,
   "id": "6b27293e-18c4-4067-9624-1d4be3a4f779",
   "metadata": {},
   "outputs": [
    {
     "data": {
      "text/plain": [
       "array([ 2, 12, 30, 56, 90])"
      ]
     },
     "execution_count": 7,
     "metadata": {},
     "output_type": "execute_result"
    }
   ],
   "source": [
    "m1*m2"
   ]
  },
  {
   "cell_type": "code",
   "execution_count": 11,
   "id": "0d5314f4-6722-464a-bf38-bf2a84cb2790",
   "metadata": {},
   "outputs": [],
   "source": [
    "mx=m1"
   ]
  },
  {
   "cell_type": "code",
   "execution_count": 8,
   "id": "4a604f2a-52e9-4053-a1f8-05ddf7221a52",
   "metadata": {},
   "outputs": [],
   "source": [
    "m3=np.random.randn(10,10)"
   ]
  },
  {
   "cell_type": "code",
   "execution_count": 9,
   "id": "3e54b9dc-49d6-466c-b545-c877699ce6c4",
   "metadata": {},
   "outputs": [
    {
     "data": {
      "text/plain": [
       "array([[ 1.82393379, -1.2597521 , -0.01064171, -0.12758173,  1.21940385,\n",
       "        -1.26556439,  1.03693414, -0.86372746,  1.26123541,  1.34981005],\n",
       "       [ 0.94510778,  1.46183299,  0.59522802,  0.68174207,  0.5300078 ,\n",
       "        -1.05261242, -0.9016581 , -0.94635019, -0.34487354,  0.60058486],\n",
       "       [-1.09795899, -0.65908795, -0.64136165, -0.5347218 ,  0.1201725 ,\n",
       "        -0.96606287,  1.38183257, -0.91293958, -0.50656772, -0.54519709],\n",
       "       [-0.99818632, -1.35536706, -0.51413313, -0.39844083,  1.96047167,\n",
       "        -1.11943235, -1.03064153, -2.85753887,  1.01957184,  0.49283843],\n",
       "       [-0.79744419, -0.54114333,  0.83435232,  0.4320979 , -0.71800597,\n",
       "         1.91934419, -1.13061954,  0.16241838,  0.57824004,  2.59843714],\n",
       "       [ 0.0634514 , -1.08902501,  1.76369405, -0.30358973, -0.22514482,\n",
       "         1.0913796 ,  0.57792874, -0.23516302,  1.14174273, -0.67869539],\n",
       "       [ 0.51288504,  1.77676954, -0.08199508,  1.33445242,  0.61199521,\n",
       "         0.1870112 , -0.0771417 , -1.56703057, -0.45533398,  0.08416997],\n",
       "       [-0.53132693, -0.10436669, -0.47927662,  0.3191791 , -1.16043381,\n",
       "         0.14204936,  0.29425975,  0.99232312, -0.52444548, -0.94728994],\n",
       "       [ 0.81573931,  0.22592955,  0.70448709,  1.70110276,  1.86383924,\n",
       "         1.96534663, -1.38613753, -0.74702907, -1.53439841,  0.0521579 ],\n",
       "       [-0.70760238, -1.34947908,  0.81036715, -0.60805724,  0.26431201,\n",
       "         0.87255092, -0.67609198,  0.11329339,  0.98052406, -1.18594669]])"
      ]
     },
     "execution_count": 9,
     "metadata": {},
     "output_type": "execute_result"
    }
   ],
   "source": [
    "m3"
   ]
  },
  {
   "cell_type": "code",
   "execution_count": 12,
   "id": "a1e281f9-380a-48fb-9bb0-ccac2989c200",
   "metadata": {},
   "outputs": [],
   "source": [
    "m4 = mx*3"
   ]
  },
  {
   "cell_type": "code",
   "execution_count": 13,
   "id": "29f834bc-266d-40fb-b41f-5ca073ef55df",
   "metadata": {},
   "outputs": [
    {
     "data": {
      "text/plain": [
       "array([ 6, 12, 18, 24, 30])"
      ]
     },
     "execution_count": 13,
     "metadata": {},
     "output_type": "execute_result"
    }
   ],
   "source": [
    "m4"
   ]
  },
  {
   "cell_type": "code",
   "execution_count": 14,
   "id": "6dbb0e40-bbfb-466a-85f5-9305d7acfa42",
   "metadata": {},
   "outputs": [],
   "source": [
    "m5=np.array([[1,2,3],[5,6,7],[9,10,11]])"
   ]
  },
  {
   "cell_type": "code",
   "execution_count": 15,
   "id": "a544a4b9-f766-4bbb-a69e-9a2ecde49679",
   "metadata": {},
   "outputs": [
    {
     "data": {
      "text/plain": [
       "array([[ 1,  2,  3],\n",
       "       [ 5,  6,  7],\n",
       "       [ 9, 10, 11]])"
      ]
     },
     "execution_count": 15,
     "metadata": {},
     "output_type": "execute_result"
    }
   ],
   "source": [
    "m5"
   ]
  },
  {
   "cell_type": "code",
   "execution_count": 16,
   "id": "e858ed72-6fbe-4c53-96cf-fa5558681f45",
   "metadata": {},
   "outputs": [
    {
     "data": {
      "text/plain": [
       "(3, 3)"
      ]
     },
     "execution_count": 16,
     "metadata": {},
     "output_type": "execute_result"
    }
   ],
   "source": [
    "m5.shape"
   ]
  },
  {
   "cell_type": "code",
   "execution_count": 17,
   "id": "773323b6-6efe-4b6b-bca2-ad4ddc2a52e8",
   "metadata": {},
   "outputs": [
    {
     "data": {
      "text/plain": [
       "array([0., 0., 0., 0., 0., 0., 0., 0., 0., 0., 0., 0., 0., 0., 0., 0., 0.,\n",
       "       0., 0., 0., 0., 0., 0., 0., 0., 0., 0., 0., 0., 0., 0., 0., 0., 0.,\n",
       "       0., 0., 0., 0., 0., 0., 0., 0., 0., 0., 0., 0., 0., 0., 0., 0.])"
      ]
     },
     "execution_count": 17,
     "metadata": {},
     "output_type": "execute_result"
    }
   ],
   "source": [
    "m6=np.zeros(50)\n",
    "m6"
   ]
  },
  {
   "cell_type": "code",
   "execution_count": 18,
   "id": "d7fbd07b-23ee-422c-a821-2ad9cbb155ac",
   "metadata": {},
   "outputs": [
    {
     "data": {
      "text/plain": [
       "array([1., 1., 1., 1., 1., 1., 1., 1., 1., 1., 1., 1., 1., 1., 1., 1., 1.,\n",
       "       1., 1., 1., 1., 1., 1., 1., 1., 1., 1., 1., 1., 1., 1., 1., 1., 1.,\n",
       "       1., 1., 1., 1., 1., 1., 1., 1., 1., 1., 1., 1., 1., 1., 1., 1.])"
      ]
     },
     "execution_count": 18,
     "metadata": {},
     "output_type": "execute_result"
    }
   ],
   "source": [
    "m7=np.ones(50)\n",
    "m7"
   ]
  },
  {
   "cell_type": "code",
   "execution_count": null,
   "id": "639d8f90-f764-4d0b-a0cb-414064fbed2a",
   "metadata": {},
   "outputs": [],
   "source": []
  }
 ],
 "metadata": {
  "kernelspec": {
   "display_name": "Python 3 (ipykernel)",
   "language": "python",
   "name": "python3"
  },
  "language_info": {
   "codemirror_mode": {
    "name": "ipython",
    "version": 3
   },
   "file_extension": ".py",
   "mimetype": "text/x-python",
   "name": "python",
   "nbconvert_exporter": "python",
   "pygments_lexer": "ipython3",
   "version": "3.9.18"
  }
 },
 "nbformat": 4,
 "nbformat_minor": 5
}
