{
 "cells": [
  {
   "cell_type": "code",
   "execution_count": 56,
   "id": "e87d0b89-26e7-4365-9b3f-3d2bbaaf3814",
   "metadata": {},
   "outputs": [],
   "source": [
    "import pandas as pd"
   ]
  },
  {
   "cell_type": "code",
   "execution_count": 57,
   "id": "b97dcb78-308f-40e8-8ea0-486952828a09",
   "metadata": {},
   "outputs": [],
   "source": [
    "path = './'"
   ]
  },
  {
   "cell_type": "code",
   "execution_count": 58,
   "id": "4157cd1a-368b-4dd5-8693-771c9b5f4a63",
   "metadata": {},
   "outputs": [
    {
     "data": {
      "text/plain": [
       "'C:\\\\Users\\\\IFAM_CMZL\\\\pam\\\\202205_PETI'"
      ]
     },
     "execution_count": 58,
     "metadata": {},
     "output_type": "execute_result"
    }
   ],
   "source": [
    "pwd\n"
   ]
  },
  {
   "cell_type": "code",
   "execution_count": 59,
   "id": "6bd619e5-fff7-4e63-a3ce-7a16ef2869b8",
   "metadata": {},
   "outputs": [
    {
     "name": "stdout",
     "output_type": "stream",
     "text": [
      " O volume na unidade C nÆo tem nome.\n",
      " O N£mero de S‚rie do Volume ‚ 7CA7-423C\n",
      "\n",
      " Pasta de C:\\Users\\IFAM_CMZL\\pam\\202205_PETI\n",
      "\n",
      "03/02/2024  14:51    <DIR>          .\n",
      "03/02/2024  14:51    <DIR>          ..\n",
      "03/02/2024  14:21    <DIR>          .ipynb_checkpoints\n",
      "15/12/2022  09:26               359 PETI20225.csv\n",
      "03/02/2024  14:51            13.867 trabalho!.ipynb\n",
      "               2 arquivo(s)         14.226 bytes\n",
      "               3 pasta(s)   68.736.045.056 bytes dispon¡veis\n"
     ]
    }
   ],
   "source": [
    "ls"
   ]
  },
  {
   "cell_type": "code",
   "execution_count": 60,
   "id": "2b1c4d1e-1e15-43b3-ab57-d5c36fe68909",
   "metadata": {},
   "outputs": [],
   "source": [
    "DB_trab=pd.read_csv( path +'PETI20225.csv', encoding=\"ISO-8859-1\")"
   ]
  },
  {
   "cell_type": "code",
   "execution_count": 64,
   "id": "72cd2036-c6e6-4248-a0ca-4641f0f5f785",
   "metadata": {},
   "outputs": [
    {
     "data": {
      "text/html": [
       "<div>\n",
       "<style scoped>\n",
       "    .dataframe tbody tr th:only-of-type {\n",
       "        vertical-align: middle;\n",
       "    }\n",
       "\n",
       "    .dataframe tbody tr th {\n",
       "        vertical-align: top;\n",
       "    }\n",
       "\n",
       "    .dataframe thead th {\n",
       "        text-align: right;\n",
       "    }\n",
       "</style>\n",
       "<table border=\"1\" class=\"dataframe\">\n",
       "  <thead>\n",
       "    <tr style=\"text-align: right;\">\n",
       "      <th></th>\n",
       "      <th>MÊS REFERÊNCIA;\"UF\";\"CÓDIGO SIAFI MUNICÍPIO\";\"NOME MUNICÍPIO\";\"NIS FAVORECIDO\";\"NOME FAVORECIDO\";\"SITUAÇÃO BENEFÍCIO\";\"VALOR PARCELA\"</th>\n",
       "    </tr>\n",
       "  </thead>\n",
       "  <tbody>\n",
       "    <tr>\n",
       "      <th>202205;\"GO\";\"9221\";\"ANAPOLIS\";\"20033342568\";\"ELAINE CRISTINA ALVES DE CAMPOS MAIA\";\"Sem Informação\";\"40</th>\n",
       "      <td>00\"</td>\n",
       "    </tr>\n",
       "    <tr>\n",
       "      <th>202205;\"SC\";\"8333\";\"SAO LOURENCO DO OESTE\";\"20901834461\";\"VERA LUCIA ZIMMER BAMPI\";\"Sem Informação\";\"40</th>\n",
       "      <td>00\"</td>\n",
       "    </tr>\n",
       "  </tbody>\n",
       "</table>\n",
       "</div>"
      ],
      "text/plain": [
       "                                                   MÊS REFERÊNCIA;\"UF\";\"CÓDIGO SIAFI MUNICÍPIO\";\"NOME MUNICÍPIO\";\"NIS FAVORECIDO\";\"NOME FAVORECIDO\";\"SITUAÇÃO BENEFÍCIO\";\"VALOR PARCELA\"\n",
       "202205;\"GO\";\"9221\";\"ANAPOLIS\";\"20033342568\";\"EL...                                                00\"                                                                                   \n",
       "202205;\"SC\";\"8333\";\"SAO LOURENCO DO OESTE\";\"209...                                                00\"                                                                                   "
      ]
     },
     "execution_count": 64,
     "metadata": {},
     "output_type": "execute_result"
    }
   ],
   "source": [
    "DB_trab\n"
   ]
  },
  {
   "cell_type": "code",
   "execution_count": null,
   "id": "eac2ee35-c5f7-4564-a494-b56117f9965e",
   "metadata": {},
   "outputs": [],
   "source": []
  }
 ],
 "metadata": {
  "kernelspec": {
   "display_name": "Python 3 (ipykernel)",
   "language": "python",
   "name": "python3"
  },
  "language_info": {
   "codemirror_mode": {
    "name": "ipython",
    "version": 3
   },
   "file_extension": ".py",
   "mimetype": "text/x-python",
   "name": "python",
   "nbconvert_exporter": "python",
   "pygments_lexer": "ipython3",
   "version": "3.9.18"
  }
 },
 "nbformat": 4,
 "nbformat_minor": 5
}
